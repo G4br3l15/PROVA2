{
 "cells": [
  {
   "cell_type": "code",
   "execution_count": 16,
   "id": "3ffa8e63-1be4-47c9-abdc-805bdee4ac0e",
   "metadata": {},
   "outputs": [
    {
     "name": "stdin",
     "output_type": "stream",
     "text": [
      "Digite o consumo diário de energia do dia: 1:  10\n",
      "Digite o consumo diário de energia do dia: 2:  10\n",
      "Digite o consumo diário de energia do dia: 3:  10\n",
      "Digite o consumo diário de energia do dia: 4:  10\n",
      "Digite o consumo diário de energia do dia: 5:  10\n",
      "Digite o consumo diário de energia do dia: 6:  10\n",
      "Digite o consumo diário de energia do dia: 7:  10\n",
      "Digite o consumo diário de energia do dia: 8:  10\n",
      "Digite o consumo diário de energia do dia: 9:  10\n",
      "Digite o consumo diário de energia do dia: 10:  10\n",
      "Digite o consumo diário de energia do dia: 11:  10\n",
      "Digite o consumo diário de energia do dia: 12:  10\n",
      "Digite o consumo diário de energia do dia: 13:  10\n",
      "Digite o consumo diário de energia do dia: 14:  10\n",
      "Digite o consumo diário de energia do dia: 15:  10\n",
      "Digite o consumo diário de energia do dia: 16:  10\n",
      "Digite o consumo diário de energia do dia: 17:  10\n",
      "Digite o consumo diário de energia do dia: 18:  10\n",
      "Digite o consumo diário de energia do dia: 19:  10\n",
      "Digite o consumo diário de energia do dia: 20:  10\n",
      "Digite o consumo diário de energia do dia: 21:  10\n",
      "Digite o consumo diário de energia do dia: 22:  10\n",
      "Digite o consumo diário de energia do dia: 23:  10\n",
      "Digite o consumo diário de energia do dia: 24:  10\n",
      "Digite o consumo diário de energia do dia: 25:  10\n",
      "Digite o consumo diário de energia do dia: 26:  10\n",
      "Digite o consumo diário de energia do dia: 27:  10\n",
      "Digite o consumo diário de energia do dia: 28:  10\n",
      "Digite o consumo diário de energia do dia: 29:  10\n",
      "Digite o consumo diário de energia do dia: 30:  10\n"
     ]
    },
    {
     "name": "stdout",
     "output_type": "stream",
     "text": [
      "O consumo diário foi: 10.0 kWh\n"
     ]
    }
   ],
   "source": [
    "def calcular_media_consumo(numeros):\n",
    "    soma = sum(numeros)\n",
    "    media = soma / len(numeros)\n",
    "    \n",
    "    return media\n",
    "def obter_registros():\n",
    "    numeros = []\n",
    "    for i in range(30):\n",
    "                numero = float(input(f\"Digite o consumo diário de energia do dia: {i + 1}: \"))\n",
    "                numeros.append(numero)\n",
    "               \n",
    "    \n",
    "    return numeros\n",
    "\n",
    "lista_de_consumo = obter_registros()\n",
    "\n",
    "resultado = calcular_media_consumo(lista_de_consumo)\n",
    "\n",
    "print(f\"O consumo médio diário foi: {resultado} kWh\")"
   ]
  },
  {
   "cell_type": "code",
   "execution_count": null,
   "id": "bd853dc4-be75-4444-b866-8c418669f8f1",
   "metadata": {},
   "outputs": [],
   "source": []
  },
  {
   "cell_type": "code",
   "execution_count": null,
   "id": "5aa6cd5d-2008-4775-b9c4-2f627c9e944d",
   "metadata": {},
   "outputs": [],
   "source": []
  }
 ],
 "metadata": {
  "kernelspec": {
   "display_name": "Python 3 (ipykernel)",
   "language": "python",
   "name": "python3"
  },
  "language_info": {
   "codemirror_mode": {
    "name": "ipython",
    "version": 3
   },
   "file_extension": ".py",
   "mimetype": "text/x-python",
   "name": "python",
   "nbconvert_exporter": "python",
   "pygments_lexer": "ipython3",
   "version": "3.12.4"
  }
 },
 "nbformat": 4,
 "nbformat_minor": 5
}
